{
  "nbformat": 4,
  "nbformat_minor": 0,
  "metadata": {
    "colab": {
      "provenance": [],
      "authorship_tag": "ABX9TyOVdQGWQrjRKpbiaAtH7dgL"
    },
    "kernelspec": {
      "name": "python3",
      "display_name": "Python 3"
    },
    "language_info": {
      "name": "python"
    }
  },
  "cells": [
    {
      "cell_type": "code",
      "source": [
        "from  queue import PriorityQueue\n",
        "input_file=open(\"Input file.txt\",\"r\")\n",
        "red=input_file.readlines()\n",
        "h_dict={}\n",
        "g_dict={}\n",
        "for x in red:\n",
        "    var=x.strip().split()\n",
        "    s_node=var[0]\n",
        "    h_stic=int(var[1])\n",
        "    childs=var[2:]\n",
        "    h_dict[s_node]=h_stic\n",
        "    g_dict[s_node]=childs\n",
        "print(h_dict)\n",
        "print(g_dict)\n",
        "q_box=PriorityQueue()\n",
        "def A_Star(node,goal):\n",
        "    q_box.put((h_dict[node],node,'Null',0)) #start node has no parent so I used null here\n",
        "    path_lst=[]\n",
        "    g_path=\"\"\n",
        "    while True:\n",
        "        var=q_box.get()\n",
        "        c_node=var[1]\n",
        "        p_node=var[2]\n",
        "        dis_val=var[3]\n",
        "        for x in range(0,len(g_dict[c_node]),2):\n",
        "            New_h_value=h_dict[g_dict[c_node][x]]+int(g_dict[c_node][x+1])+dis_val\n",
        "            n_dis_val=dis_val+int(g_dict[c_node][x+1])\n",
        "            n_node=g_dict[c_node][x]\n",
        "            parent=c_node\n",
        "            q_box.put((New_h_value,n_node,parent,n_dis_val))\n",
        "            path_lst.append((c_node,p_node,dis_val))\n",
        "        if c_node==goal:\n",
        "            cur_node=goal\n",
        "            while cur_node!='Null':\n",
        "                g_path=cur_node+'->'+g_path\n",
        "                for x in path_lst:\n",
        "                    if x[0]==cur_node:\n",
        "                        cur_node= x[1]\n",
        "                        break\n",
        "            g_path=g_path.strip('->')\n",
        "            return f\"Path: {g_path} \\nTotal distance: {dis_val} km\"\n",
        "    return \"NO PATH FOUND\"\n",
        "S_node=\"Arad\"\n",
        "Dest_node=\"Bucharest\"\n",
        "print(A_Star(S_node,Dest_node))"
      ],
      "metadata": {
        "colab": {
          "base_uri": "https://localhost:8080/"
        },
        "id": "H-OuZ8B72x31",
        "outputId": "5409d0a3-286a-4d65-bfa5-db740ba912e1"
      },
      "execution_count": null,
      "outputs": [
        {
          "output_type": "stream",
          "name": "stdout",
          "text": [
            "{'Arad': 366, 'Craiova': 160, 'Eforie': 161, 'Fagaras': 176, 'Giurgiu': 77, 'Mehadia': 241, 'Neamt': 234, 'Sibiu': 253, 'Oradea': 380, 'Pitesti': 100, 'RimnicuVilcea': 193, 'Dobreta': 242, 'Hirsova': 151, 'lasi': 226, 'Lugoj': 244, 'Timisoara': 329, 'Urziceni': 80, 'Vaslui': 199, 'Zerind': 374, 'Bucharest': 0}\n",
            "{'Arad': ['Zerind', '75', 'Timisoara', '118', 'Sibiu', '140'], 'Craiova': ['Dobreta', '120', 'RimnicuVilcea', '146', 'Pitesti', '138'], 'Eforie': ['Hirsova', '86'], 'Fagaras': ['Sibiu', '99', 'Bucharest', '211'], 'Giurgiu': ['Bucharest', '90'], 'Mehadia': ['Lugoj', '70', 'Dobreta', '75'], 'Neamt': ['lasi', '87'], 'Sibiu': ['Oradea', '151', 'Arad', '140', 'RimnicuVilcea', '80', 'Fagaras', '99'], 'Oradea': ['Zerind', '71', 'Sibiu', '151'], 'Pitesti': ['RimnicuVilcea', '97', 'Craiova', '138', 'Bucharest', '101'], 'RimnicuVilcea': ['Sibiu', '80', 'Craiova', '146', 'Pitesti', '97'], 'Dobreta': ['Mehadia', '75', 'Craiova', '120'], 'Hirsova': ['Urziceni', '98', 'Eforie', '86'], 'lasi': ['Vaslui', '92', 'Neamt', '87'], 'Lugoj': ['Timisoara', '111', 'Mehadia', '70'], 'Timisoara': ['Arad', '118', 'Lugoj', '111'], 'Urziceni': ['Bucharest', '85', 'Hirsova', '98', 'Vaslui', '142'], 'Vaslui': ['Urziceni', '142', 'lasi', '92'], 'Zerind': ['Oradea', '71', 'Arad', '75'], 'Bucharest': ['Fagaras', '211', 'Pitesti', '101', 'Giurgiu', '90', 'Urziceni', '85']}\n",
            "Path: Arad->Sibiu->RimnicuVilcea->Pitesti->Bucharest \n",
            "Total distance: 418 km\n"
          ]
        }
      ]
    }
  ]
}
