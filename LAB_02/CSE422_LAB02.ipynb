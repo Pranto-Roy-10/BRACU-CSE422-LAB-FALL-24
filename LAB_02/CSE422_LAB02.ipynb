{
  "nbformat": 4,
  "nbformat_minor": 0,
  "metadata": {
    "colab": {
      "provenance": []
    },
    "kernelspec": {
      "name": "python3",
      "display_name": "Python 3"
    },
    "language_info": {
      "name": "python"
    }
  },
  "cells": [
    {
      "cell_type": "code",
      "execution_count": null,
      "metadata": {
        "colab": {
          "base_uri": "https://localhost:8080/"
        },
        "id": "MA6ijHho697k",
        "outputId": "9f153e1a-2f5b-40ba-ab18-fad8e1bf1501"
      },
      "outputs": [
        {
          "output_type": "stream",
          "name": "stdout",
          "text": [
            "010100001\n",
            "0\n"
          ]
        }
      ],
      "source": [
        "import random\n",
        "input_file=open(\"input.txt\",\"r\")\n",
        "output_file=open(\"output.txt\",\"w\")\n",
        "red=input_file.readline().split()\n",
        "n=int(red[0])\n",
        "t=int(red[1])\n",
        "course_lst=[]\n",
        "for x in range(n):\n",
        "    var=input_file.readline().split()\n",
        "    course_lst.append(var[0])\n",
        "def fitness_calc(n,t,chromosome): # checked\n",
        "    penalty_o=0\n",
        "    penalty_cons=0\n",
        "    course_num=[0]*n\n",
        "    for y in range(t):\n",
        "        parti_line=chromosome[y*n:(y+1)*n]\n",
        "        if sum(parti_line)>1:\n",
        "            penalty_o+=(sum(parti_line)-1)\n",
        "    for y in range(t):\n",
        "        parti_line=chromosome[y*n:(y+1)*n]\n",
        "        for x in range(n):\n",
        "            course_num[x]+=parti_line[x]\n",
        "    for x in course_num:\n",
        "        penalty_cons+=abs(x-1)\n",
        "    fitness=-(penalty_o+penalty_cons)\n",
        "    return fitness\n",
        "def population_initi(n,t,popu_size):\n",
        "    popu_lst=[]\n",
        "    for x in range(popu_size):\n",
        "        chrom_set=[]\n",
        "        for y in range(t):\n",
        "            parti_line=[0]*n\n",
        "            rand_course=random.randint(0,n-1)\n",
        "            parti_line[rand_course]=1\n",
        "            chrom_set=chrom_set+parti_line\n",
        "        popu_lst.append(chrom_set)\n",
        "    return popu_lst\n",
        "def random_selection(popu,popu_size):\n",
        "    parents=[]\n",
        "    while len(parents)<4:\n",
        "        var=random.choice(popu)\n",
        "        if var not in parents:\n",
        "            parents.append(var)\n",
        "    return parents\n",
        "def crossover_single(parents):\n",
        "    childs=[]\n",
        "    for x in range(0,2):\n",
        "        var1=random.randint(0,3)\n",
        "        var2=random.randint(0,3)\n",
        "        if var1==var2:\n",
        "           var2=random.randint(0,3)\n",
        "        cross_point=random.randint(1,len(parents[var1])-1)\n",
        "        child1=parents[var1][:cross_point]+parents[var2][cross_point:]\n",
        "        child2=parents[var2][:cross_point]+parents[var1][cross_point:]\n",
        "        childs.append(child1)\n",
        "        childs.append(child2)\n",
        "    return childs\n",
        "def mutation(chromosome,mutate_rate):\n",
        "    for x in range(len(chromosome)):\n",
        "        if random.random()<mutate_rate:\n",
        "            chromosome[x]=1-chromosome[x]\n",
        "    return chromosome\n",
        "def genetics(n,t,popu_size=100,max_gen=1000,mutate_rate=0.1):\n",
        "    popu=population_initi(n,t,popu_size)\n",
        "    best_fit=float('-inf')\n",
        "    best_chroms=None\n",
        "    for x in range(max_gen):\n",
        "        fitness_lst=[]\n",
        "        for y in popu:\n",
        "            fitness=fitness_calc(n,t,y)  #y is the chromosome in the population.\n",
        "            fitness_lst.append(fitness)\n",
        "        best_fit1=max(fitness_lst)\n",
        "        if best_fit1>best_fit:\n",
        "            best_fit=best_fit1\n",
        "            best_chroms=popu[fitness_lst.index(best_fit1)]\n",
        "        new_popu=[]\n",
        "        while len(new_popu)<popu_size:\n",
        "            new_parents=random_selection(popu,popu_size)\n",
        "            new_childs=crossover_single(new_parents)\n",
        "            for x in new_childs:\n",
        "                new_popu.append(mutation(x,mutate_rate))\n",
        "                if len(new_popu)>=popu_size:\n",
        "                    break\n",
        "        popu=new_popu\n",
        "    return best_chroms,best_fit\n",
        "\n",
        "# a=Chromosomes_gen(n,t)\n",
        "# print(a)\n",
        "# fitness_calc(n,t,a)\n",
        "a1,b1 = genetics(n, t)\n",
        "print( ''.join(map(str, a1)))\n",
        "print(b1)"
      ]
    },
    {
      "cell_type": "code",
      "source": [
        "import random\n",
        "input_file=open(\"input.txt\",\"r\")\n",
        "output_file=open(\"output.txt\",\"w\")\n",
        "red=input_file.readline().split()\n",
        "n=int(red[0])\n",
        "t=int(red[1])\n",
        "course_lst=[]\n",
        "for x in range(n):\n",
        "    var=input_file.readline().split()\n",
        "    course_lst.append(var[0])\n",
        "def population_init(n,t,popu_size):\n",
        "    popu_lst=[]\n",
        "    for x in range(popu_size):\n",
        "        chrom_set=[]\n",
        "        for y in range(t):\n",
        "            parti_line=[0]*n\n",
        "            rand_course=random.randint(0,n-1)\n",
        "            parti_line[rand_course]=1\n",
        "            chrom_set=chrom_set+parti_line\n",
        "        popu_lst.append(chrom_set)\n",
        "    return popu_lst\n",
        "def parent_selection(population):\n",
        "    parents=[]\n",
        "    while len(parents)<2:\n",
        "        var=random.choice(population)\n",
        "        if var not in parents:\n",
        "            parents.append(var)\n",
        "    return parents[0],parents[1]\n",
        "def dual_crossover(parent1,parent2):\n",
        "    partition1=random.randint(1,len(parent1)-2)\n",
        "    partition2=random.randint(partition1+1,len(parent1)-1)\n",
        "    child1=(parent1[:partition1]+parent2[partition1:partition2]+parent1[partition2:])\n",
        "    child2=(parent2[:partition1]+parent1[partition1:partition2]+parent2[partition2:])\n",
        "    return child1, child2\n",
        "a=population_init(n,t,20)\n",
        "b,c=parent_selection(a)\n",
        "d,f=dual_crossover(b,c)\n",
        "print(f\"Randomly Selected Parent 1: {b}\")\n",
        "print(f\"Randomly Selected Parent 2: {c}\")\n",
        "print(f\"Resultant Offspring 1: {d}\")\n",
        "print(f\"Resultant Offspring 2: {f}\")\n",
        "# a=[0,0,0,1,1,1,0,0,0]\n",
        "# b=[1,1,1,0,0,0,1,1,1]\n",
        "# c,d=dual_crossover(a,b)\n",
        "# print(c)\n",
        "# print(d)\n",
        "\n"
      ],
      "metadata": {
        "colab": {
          "base_uri": "https://localhost:8080/"
        },
        "id": "PtNFhDZAll76",
        "outputId": "5b400ace-d2dc-4455-f75e-5ea02126d5f3"
      },
      "execution_count": null,
      "outputs": [
        {
          "output_type": "stream",
          "name": "stdout",
          "text": [
            "Randomly Selected Parent 1: [0, 1, 0, 1, 0, 0, 1, 0, 0]\n",
            "Randomly Selected Parent 2: [1, 0, 0, 0, 0, 1, 0, 0, 1]\n",
            "Resultant Offspring 1: [0, 1, 0, 1, 0, 1, 0, 0, 0]\n",
            "Resultant Offspring 2: [1, 0, 0, 0, 0, 0, 1, 0, 1]\n"
          ]
        }
      ]
    }
  ]
}