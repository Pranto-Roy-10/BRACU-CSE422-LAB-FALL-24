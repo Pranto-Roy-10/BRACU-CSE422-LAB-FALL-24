{
  "nbformat": 4,
  "nbformat_minor": 0,
  "metadata": {
    "colab": {
      "provenance": []
    },
    "kernelspec": {
      "name": "python3",
      "display_name": "Python 3"
    },
    "language_info": {
      "name": "python"
    }
  },
  "cells": [
    {
      "cell_type": "code",
      "execution_count": null,
      "metadata": {
        "colab": {
          "base_uri": "https://localhost:8080/"
        },
        "id": "yvc7g9jvigT0",
        "outputId": "7ad6e39a-2aa0-4165-d680-55b068a3d33f"
      },
      "outputs": [
        {
          "output_type": "stream",
          "name": "stdout",
          "text": [
            "1\n",
            "Game Winner: Sub-Zero\n",
            "Total Rounds Played: 3\n",
            "Winner of Round 1: Scorpion\n",
            "Winner of Round 2: Sub-Zero\n",
            "Winner of Round 3: Sub-Zero\n"
          ]
        }
      ],
      "source": [
        "#task01\n",
        "from random import choice\n",
        "def mortal_kombat(charecter):\n",
        "    depth=5\n",
        "    plays=0\n",
        "    cur_player=charecter\n",
        "    play_outcome=[]\n",
        "    while plays<3:\n",
        "        win_var= minmax_alpha_beta(depth,cur_player==1,float('-inf'),float('inf'),cur_player)\n",
        "        if win_var==-1:\n",
        "            play_wins=\"Scorpion\"\n",
        "        else:\n",
        "            play_wins=\"Sub-Zero\"\n",
        "        play_outcome.append(play_wins)\n",
        "        cur_player=1-cur_player\n",
        "        plays+=1\n",
        "    win_dict={}\n",
        "    for x in play_outcome:\n",
        "        if x not in win_dict:\n",
        "            win_dict[x]=0\n",
        "        win_dict[x]+=1\n",
        "    game_won=None\n",
        "    max_cnt=float('-inf')\n",
        "    for winner,cnt in win_dict.items():\n",
        "        if cnt>max_cnt:\n",
        "            max_cnt=cnt\n",
        "            game_won=winner\n",
        "    print(f\"Game Winner: {game_won}\")\n",
        "    print(f\"Total Rounds Played: {plays}\")\n",
        "    var=1\n",
        "    for winner in play_outcome:\n",
        "        print(f\"Winner of Round {var}: {winner}\")\n",
        "        var+=1\n",
        "def minmax_alpha_beta(d,maxing,alpha,beta,n):\n",
        "    if d==0:\n",
        "        return choice([1,-1])\n",
        "    if maxing:\n",
        "        max_evaluate=float('-inf')\n",
        "        for x in range(2): # 2 action per turn\n",
        "            evaluate=minmax_alpha_beta(d-1,False,alpha,beta,n)\n",
        "            if evaluate>max_evaluate:\n",
        "                max_evaluate=evaluate\n",
        "            if evaluate>alpha:\n",
        "                alpha=evaluate\n",
        "            if beta<=alpha:\n",
        "                break\n",
        "        return max_evaluate\n",
        "    else:\n",
        "        min_evaluate=float('inf')\n",
        "        for x in range(2):\n",
        "            evaluate=minmax_alpha_beta(d-1,True,alpha,beta,n)\n",
        "            if evaluate<min_evaluate:\n",
        "                min_evaluate=evaluate\n",
        "            if evaluate<beta:\n",
        "                beta=evaluate\n",
        "            if beta<=alpha:\n",
        "                break\n",
        "        return min_evaluate\n",
        "n=int(input())\n",
        "mortal_kombat(n)\n",
        "\n",
        "\n",
        "\n"
      ]
    },
    {
      "cell_type": "code",
      "source": [
        "#Task02\n",
        "# Normal pruning\n",
        "def minmax_alpha_beta_pac(d,n_index,maxing,alpha,beta,childs):\n",
        "    if d==3:\n",
        "        return childs[n_index]\n",
        "    if maxing:\n",
        "        max_evaluate=float('-inf')\n",
        "        for x in range(2): # 2 action per turn\n",
        "            evaluate=minmax_alpha_beta_pac(d+1,n_index*2+x,False,alpha,beta,childs)\n",
        "            if evaluate>max_evaluate:\n",
        "                max_evaluate=evaluate\n",
        "            if evaluate>alpha:\n",
        "                alpha=evaluate\n",
        "            if beta<=alpha:\n",
        "                break\n",
        "        return max_evaluate\n",
        "    else:\n",
        "        min_evaluate=float('inf')\n",
        "        for x in range(2):\n",
        "            evaluate=minmax_alpha_beta_pac(d+1,n_index*2+x,True,alpha,beta,childs)\n",
        "            if evaluate<min_evaluate:\n",
        "                min_evaluate=evaluate\n",
        "            if evaluate<beta:\n",
        "                beta=evaluate\n",
        "            if beta<=alpha:\n",
        "                break\n",
        "        return min_evaluate\n",
        "def pac_man(c):\n",
        "    childs=[3,6,2,3,7,1,2,0]\n",
        "    val_root= minmax_alpha_beta_pac(0,0,True,float('-inf'),float('inf'),childs)\n",
        "    # magic part:\n",
        "    left_s_tree_val=float('-inf')\n",
        "    for x in range(0,4):\n",
        "        if childs[x]>left_s_tree_val:\n",
        "            left_s_tree_val=childs[x]\n",
        "    right_s_tree_val=float('-inf')\n",
        "    for x in range(4,8):\n",
        "        if childs[x]>right_s_tree_val:\n",
        "            right_s_tree_val=childs[x]\n",
        "    left_magic_cost=left_s_tree_val-c\n",
        "    right_magic_cost=right_s_tree_val-c\n",
        "    if left_magic_cost>right_magic_cost:\n",
        "        max_val=left_magic_cost\n",
        "        side=\"left\"\n",
        "    else:\n",
        "        max_val=right_magic_cost\n",
        "        side=\"right\"\n",
        "    if max_val<val_root:\n",
        "        print(f\"The minimax value is {val_root}. Pacman does not uses dark magic\")\n",
        "    else:\n",
        "        print(f\"The new minimax value is {max_val}. Pacman goes {side} and uses dark magic\")\n",
        "\n",
        "pac_man(2)\n",
        "pac_man(5)\n",
        "\n"
      ],
      "metadata": {
        "colab": {
          "base_uri": "https://localhost:8080/"
        },
        "id": "RYTGZfgNLjdX",
        "outputId": "ddfb3863-1e2e-45dc-9db0-3d4bd5815095"
      },
      "execution_count": null,
      "outputs": [
        {
          "output_type": "stream",
          "name": "stdout",
          "text": [
            "The new minimax value is 5. Pacman goes right and uses dark magic\n",
            "The minimax value is 3. Pacman does not uses dark magic\n"
          ]
        }
      ]
    }
  ]
}